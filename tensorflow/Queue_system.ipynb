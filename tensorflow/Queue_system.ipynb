{
 "cells": [
  {
   "cell_type": "code",
   "execution_count": 2,
   "metadata": {
    "collapsed": true
   },
   "outputs": [],
   "source": [
    "import time\n",
    "import tensorflow as tf"
   ]
  },
  {
   "cell_type": "code",
   "execution_count": 3,
   "metadata": {
    "collapsed": true
   },
   "outputs": [],
   "source": [
    "#我们模拟一些原始输入数据\n",
    "#（考虑从文件系统获取一些数据）\n",
    "#每批次128个样本，每个样本包含1024个数据点\n",
    "x_input_data = tf.random_normal([128, 1024], mean=0, stddev=1)\n"
   ]
  },
  {
   "cell_type": "code",
   "execution_count": 4,
   "metadata": {
    "collapsed": true
   },
   "outputs": [],
   "source": [
    "#我们建立我们的小模型：一个基本的两层神经网络与ReLU\n",
    "with tf.variable_scope('queue'):\n",
    "    q = tf.FIFOQueue(capacity=5, dtypes=tf.float32) \n",
    "    #我们使用“入队”操作，所以队列的1个元素是完整的批处理\n",
    "    enqueue_op = q.enqueue(x_input_data)\n",
    "    numberOfTheards = 1\n",
    "    qr = tf.train.QueueRunner(q, [enqueue_op] * numberOfTheards)\n",
    "    tf.train.add_queue_runner(qr)\n",
    "    input = q.dequeue() #它取代了我们的输入占位符\n",
    "    #我们也可以直接在图中计算y_true\n",
    "    y_true = tf.cast(tf.reduce_mean(input, axis=1, keep_dims=True) > 0, tf.int32)\n",
    "    "
   ]
  },
  {
   "cell_type": "code",
   "execution_count": 5,
   "metadata": {},
   "outputs": [],
   "source": [
    "with tf.variable_scope('FullyConnected'):\n",
    "    w = tf.get_variable('w',shape=[1024, 1024], initializer=tf.random_normal_initializer(stddev=1e-1))\n",
    "    b = tf.get_variable('b',shape=[1024], initializer=tf.constant_initializer(0.1))\n",
    "    z = tf.matmul(input, w) + b\n",
    "    y = tf.nn.relu(z)\n",
    "    \n",
    "    w2 = tf.get_variable('w2',shape=[1024, 1], initializer=tf.random_normal_initializer(stddev=1e-1))\n",
    "    b2 = tf.get_variable('b2',shape=[1], initializer=tf.constant_initializer(0.1))\n",
    "    z = tf.matmul(y, w2) + b2"
   ]
  },
  {
   "cell_type": "code",
   "execution_count": 6,
   "metadata": {
    "collapsed": true
   },
   "outputs": [],
   "source": [
    "with tf.variable_scope('Loss'):\n",
    "    losses = tf.nn.sigmoid_cross_entropy_with_logits(None, tf.cast(y_true, tf.float32), z)\n",
    "    loss_op = tf.reduce_mean(losses)"
   ]
  },
  {
   "cell_type": "code",
   "execution_count": 7,
   "metadata": {
    "collapsed": true
   },
   "outputs": [],
   "source": [
    "with tf.variable_scope('Accruacy'):\n",
    "    y_pred = tf.cast(z >0, tf.int32)\n",
    "    accuracy = tf.reduce_mean(tf.cast(tf.equal(y_pred, y_true), tf.float32))\n",
    "    accuracy = tf.Print(accuracy, data=[accuracy], message = 'accuracy:')\n",
    "    "
   ]
  },
  {
   "cell_type": "code",
   "execution_count": 8,
   "metadata": {
    "collapsed": true
   },
   "outputs": [],
   "source": [
    "adam = tf.train.AdamOptimizer(1e-2)\n",
    "train_op = adam.minimize(loss_op, name='train_op')"
   ]
  },
  {
   "cell_type": "code",
   "execution_count": 9,
   "metadata": {},
   "outputs": [
    {
     "name": "stdout",
     "output_type": "stream",
     "text": [
      "iter:0 --loss:2.666943\n",
      "iter:500 --loss:0.521086\n",
      "iter:1000 --loss:0.596342\n",
      "iter:1500 --loss:0.401177\n",
      "iter:2000 --loss:1.146182\n",
      "iter:2500 --loss:0.934583\n",
      "iter:3000 --loss:1.000453\n",
      "iter:3500 --loss:1.204146\n",
      "iter:4000 --loss:0.524669\n",
      "iter:4500 --loss:1.016587\n",
      "Time taken : 174.667655\n"
     ]
    }
   ],
   "source": [
    "startTime = time.time()\n",
    "with tf.Session() as sess:\n",
    "    #初始化变量\n",
    "    sess.run(tf.global_variables_initializer())\n",
    "    \n",
    "    #添加协调器\n",
    "    coord = tf.train.Coordinator()\n",
    "    threads = tf.train.start_queue_runners(coord=coord)\n",
    "    \n",
    "    #检查训练前的准确性（不用feed_dict！）\n",
    "    sess.run(accuracy)\n",
    "    \n",
    "    #训练\n",
    "    for i in range(5000):\n",
    "        #没有从Python采样，没有feed_dict！\n",
    "        _, loss = sess.run([train_op, loss_op])\n",
    "        \n",
    "        #我们定期检查损失\n",
    "        if i % 500 == 0:\n",
    "            print('iter:%d --loss:%f'%(i, loss))\n",
    "    \n",
    "    \n",
    "    #最后，我们检查我们的最终准确性\n",
    "    sess.run(accuracy)\n",
    "    \n",
    "    coord.request_stop()\n",
    "    coord.join(threads)\n",
    "\n",
    "print('Time taken : %f'%(time.time() - startTime))\n",
    "    "
   ]
  }
 ],
 "metadata": {
  "kernelspec": {
   "display_name": "Python 3",
   "language": "python",
   "name": "python3"
  },
  "language_info": {
   "codemirror_mode": {
    "name": "ipython",
    "version": 3
   },
   "file_extension": ".py",
   "mimetype": "text/x-python",
   "name": "python",
   "nbconvert_exporter": "python",
   "pygments_lexer": "ipython3",
   "version": "3.5.3"
  }
 },
 "nbformat": 4,
 "nbformat_minor": 2
}
