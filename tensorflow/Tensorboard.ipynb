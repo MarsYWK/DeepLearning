{
 "cells": [
  {
   "cell_type": "code",
   "execution_count": 1,
   "metadata": {
    "collapsed": true
   },
   "outputs": [],
   "source": [
    "import tensorflow as tf"
   ]
  },
  {
   "cell_type": "code",
   "execution_count": 2,
   "metadata": {
    "collapsed": true
   },
   "outputs": [],
   "source": [
    "\"\"\" \n",
    "首先载入Tensorflow，并设置训练的最大步数为1000,学习率为0.001,dropout的保留比率为0.9。 \n",
    "同时，设置MNIST数据下载地址data_dir和汇总数据的日志存放路径log_dir。 \n",
    "这里的日志路径log_dir非常重要，会存放所有汇总数据供Tensorflow展示。 \n",
    "\"\"\"  \n",
    "  \n",
    "from tensorflow.examples.tutorials.mnist import input_data  \n",
    "max_step = 1000  \n",
    "learning_rate = 0.001  \n",
    "dropout = 0.9  \n",
    "data_dir = 'mnist/input_data'\n",
    "log_dir = 'mnist/logs/mnist_with_summaries'"
   ]
  },
  {
   "cell_type": "code",
   "execution_count": 3,
   "metadata": {},
   "outputs": [
    {
     "name": "stdout",
     "output_type": "stream",
     "text": [
      "Extracting mnist/input_data/train-images-idx3-ubyte.gz\n",
      "Extracting mnist/input_data/train-labels-idx1-ubyte.gz\n",
      "Extracting mnist/input_data/t10k-images-idx3-ubyte.gz\n",
      "Extracting mnist/input_data/t10k-labels-idx1-ubyte.gz\n"
     ]
    }
   ],
   "source": [
    "# 使用input_data.read_data_sets下载MNIST数据，并创建Tensorflow的默认Session  \n",
    "mnist = input_data.read_data_sets(data_dir, one_hot=True)  \n",
    "sess = tf.InteractiveSession()  "
   ]
  },
  {
   "cell_type": "code",
   "execution_count": 4,
   "metadata": {
    "collapsed": true
   },
   "outputs": [],
   "source": [
    "\"\"\" \n",
    "为了在TensorBoard中展示节点名称，设计网络时会常使用tf.name_scope限制命名空间， \n",
    "在这个with下所有的节点都会自动命名为input/xxx这样的格式。 \n",
    "定义输入x和y的placeholder，并将输入的一维数据变形为28×28的图片存储到另一个tensor， \n",
    "这样就可以使用tf.summary.image将图片数据汇总给TensorBoard展示了。 \n",
    "\"\"\"  \n",
    "with tf.name_scope('input'):  \n",
    "    x = tf.placeholder(tf.float32, [None, 784], name='x_input')  \n",
    "    y = tf.placeholder(tf.float32, [None, 10], name='y_input')  \n",
    "\n",
    "with tf.name_scope('input_reshape'):  \n",
    "    image_shaped_input = tf.reshape(x, [-1, 28, 28, 1])  \n",
    "    tf.summary.image('input', image_shaped_input, 10)  "
   ]
  },
  {
   "cell_type": "code",
   "execution_count": 5,
   "metadata": {
    "collapsed": true
   },
   "outputs": [],
   "source": [
    "#定义神经网络模型参数的初始化方法，  \n",
    "# 权重依然使用常用的truncated_normal进行初始化，偏置则赋值为0.1  \n",
    "def weight_variable(shape):  \n",
    "    initial = tf.truncated_normal(shape, stddev=0.1)  \n",
    "    return tf.Variable(initial)  \n",
    "  \n",
    "def bias_variable(shape):  \n",
    "    initial = tf.constant(0.1, shape=shape)  \n",
    "    return tf.Variable(initial)  "
   ]
  },
  {
   "cell_type": "code",
   "execution_count": 6,
   "metadata": {
    "collapsed": true
   },
   "outputs": [],
   "source": [
    "# 定义对Variable变量的数据汇总函数  \n",
    "\"\"\" \n",
    "计算出Variable的mean,stddev,max和min， \n",
    "对这些标量数据使用tf.summary.scalar进行记录和汇总。 \n",
    "同时，使用tf.summary.histogram直接记录变量var的直方图。 \n",
    "\"\"\"  \n",
    "def variable_summaries(var):  \n",
    "    with tf.name_scope('summaries'):  \n",
    "        mean = tf.reduce_mean(var)  \n",
    "        tf.summary.scalar('mean', mean)  \n",
    "        with tf.name_scope('stddev'):  \n",
    "            stddev = tf.sqrt(tf.reduce_mean(tf.square(var-mean)))  \n",
    "        tf.summary.scalar('stddev', stddev)  \n",
    "        tf.summary.scalar('max', tf.reduce_max(var))  \n",
    "        tf.summary.scalar('min', tf.reduce_min(var))  \n",
    "        tf.summary.histogram('histogram', var)  "
   ]
  },
  {
   "cell_type": "code",
   "execution_count": 7,
   "metadata": {
    "collapsed": true
   },
   "outputs": [],
   "source": [
    "#设计一个MLP多层神经网络来训练数据，在每一层中都会对模型参数进行数据汇总。  \n",
    "\"\"\" \n",
    "定一个创建一层神经网络并进行数据汇总的函数nn_layer。 \n",
    "这个函数的输入参数有输入数据input_tensor,输入的维度input_dim,输出的维度output_dim和层名称layer_name，激活函数act则默认使用Relu。 \n",
    "在函数内，显示初始化这层神经网络的权重和偏置，并使用前面定义的variable_summaries对variable进行数据汇总。 \n",
    "然后对输入做矩阵乘法并加上偏置，再将未进行激活的结果使用tf.summary.histogram统计直方图。 \n",
    "同时，在使用激活函数后，再使用tf.summary.histogram统计一次。 \n",
    "\"\"\"  \n",
    "def nn_layer(input_tensor, input_dim, output_dim, layer_name,act=tf.nn.relu):  \n",
    "    with tf.name_scope(layer_name):  \n",
    "        with tf.name_scope('weight'):  \n",
    "            weights = weight_variable([input_dim, output_dim])  \n",
    "            variable_summaries(weights)  \n",
    "        with tf.name_scope('biases'):  \n",
    "            biases = bias_variable([output_dim])  \n",
    "            variable_summaries(biases)  \n",
    "        with tf.name_scope('Wx_plus_b'):  \n",
    "            preactivate = tf.matmul(input_tensor, weights) + biases  \n",
    "            tf.summary.histogram('pre_activations', preactivate)  \n",
    "        activations = act(preactivate, name='actvations')  \n",
    "        tf.summary.histogram('activations', activations)  \n",
    "        return activations  "
   ]
  },
  {
   "cell_type": "code",
   "execution_count": 8,
   "metadata": {
    "collapsed": true
   },
   "outputs": [],
   "source": [
    "\"\"\" \n",
    "使用刚定义好的nn_layer创建一层神经网络，输入维度是图片的尺寸（784=24×24），输出的维度是隐藏节点数500. \n",
    "再创建一个Droput层，并使用tf.summary.scalar记录keep_prob。然后再使用nn_layer定义神经网络的输出层，激活函数为全等映射，此层暂时不使用softmax,在后面会处理。 \n",
    "\"\"\"  \n",
    "hidden1 = nn_layer(x, 784, 500, 'layer1')  \n",
    "  \n",
    "with tf.name_scope('dropout'):  \n",
    "    keep_prob = tf.placeholder(tf.float32)  \n",
    "    tf.summary.scalar('dropout_keep_probability', keep_prob)  \n",
    "    dropped = tf.nn.dropout(hidden1, keep_prob)  \n",
    "y1 = nn_layer(dropped, 500, 10, 'layer2', act=tf.identity)  "
   ]
  },
  {
   "cell_type": "code",
   "execution_count": 9,
   "metadata": {},
   "outputs": [
    {
     "data": {
      "text/plain": [
       "<tf.Tensor 'cross_entropy_1:0' shape=() dtype=string>"
      ]
     },
     "execution_count": 9,
     "metadata": {},
     "output_type": "execute_result"
    }
   ],
   "source": [
    "\"\"\" \n",
    "这里使用tf.nn.softmax_cross_entropy_with_logits()对前面输出层的结果进行softmax处理并计算交叉熵损失cross_entropy。 \n",
    "计算平均损失，并使用tf.summary.saclar进行统计汇总。 \n",
    "\"\"\"  \n",
    "with tf.name_scope('cross_entropy'):  \n",
    "    diff = tf.nn.softmax_cross_entropy_with_logits(logits=y1, labels=y)  \n",
    "    with tf.name_scope('total'):  \n",
    "        cross_entropy = tf.reduce_mean(diff)  \n",
    "tf.summary.scalar('cross_entropy', cross_entropy)  "
   ]
  },
  {
   "cell_type": "code",
   "execution_count": 10,
   "metadata": {},
   "outputs": [
    {
     "data": {
      "text/plain": [
       "<tf.Tensor 'accuracy_1:0' shape=() dtype=string>"
      ]
     },
     "execution_count": 10,
     "metadata": {},
     "output_type": "execute_result"
    }
   ],
   "source": [
    "\"\"\" \n",
    "使用Adma优化器对损失进行优化，同时统计预测正确的样本数并计算正确率accuray， \n",
    "再使用tf.summary.scalar对accuracy进行统计汇总。 \n",
    "\"\"\"  \n",
    "with tf.name_scope('train'):  \n",
    "    train_step = tf.train.AdamOptimizer(learning_rate).minimize(cross_entropy)  \n",
    "with tf.name_scope('accuracy'):  \n",
    "    with tf.name_scope('correct_prediction'):  \n",
    "        correct_prediction = tf.equal(tf.argmax(y1, 1), tf.arg_max(y, 1))  \n",
    "    with tf.name_scope('accuracy'):  \n",
    "        accuracy = tf.reduce_mean(tf.cast(correct_prediction, tf.float32))  \n",
    "tf.summary.scalar('accuracy', accuracy) "
   ]
  },
  {
   "cell_type": "code",
   "execution_count": 11,
   "metadata": {
    "collapsed": true
   },
   "outputs": [],
   "source": [
    "\"\"\" \n",
    "由于之前定义了非常多的tf.summary的汇总操作，一一执行这些操作态麻烦， \n",
    "所以这里使用tf.summary.merger_all()直接获取所有汇总操作，以便后面执行。 \n",
    "然后，定义两个tf.summary.FileWrite(文件记录器)在不同的子目录，分别用来存放训练和测试的日志数据。 \n",
    "同时，将Session的计算图sess.graph加入训练过程的记录器，这样在TensorBoard的GRAPHS窗口中就能展示整个计算图的可视化效果。 \n",
    "最后使用tf.global_variables_initializer().run()初始化全部变量。 \n",
    "\"\"\"  \n",
    "merged = tf.summary.merge_all()  \n",
    "train_writer = tf.summary.FileWriter(log_dir + '/train', sess.graph)  \n",
    "test_writer = tf.summary.FileWriter(log_dir + '/test')  \n",
    "tf.global_variables_initializer().run()  "
   ]
  },
  {
   "cell_type": "code",
   "execution_count": 12,
   "metadata": {
    "collapsed": true
   },
   "outputs": [],
   "source": [
    "\"\"\" \n",
    "定义feed_dict的损失函数。 \n",
    "该函数先判断训练标记，如果训练标记为true,则从mnist.train中获取一个batch的样本，并设置dropout值; \n",
    "如果训练标记为False，则获取测试数据，并设置keep_prob为1,即等于没有dropout效果。 \n",
    "\"\"\"  \n",
    "def feed_dict(train):  \n",
    "    if train:  \n",
    "        xs, ys = mnist.train.next_batch(100)  \n",
    "        k = dropout  \n",
    "    else:  \n",
    "        xs, ys = mnist.test.images, mnist.test.labels  \n",
    "        k = 1.0  \n",
    "    return {x: xs, y: ys, keep_prob: k}  "
   ]
  },
  {
   "cell_type": "code",
   "execution_count": 13,
   "metadata": {},
   "outputs": [
    {
     "name": "stdout",
     "output_type": "stream",
     "text": [
      "Accuracy at step 0: 0.1146\n",
      "Accuracy at step 10: 0.7195\n",
      "Accuracy at step 20: 0.8146\n",
      "Accuracy at step 30: 0.8593\n",
      "Accuracy at step 40: 0.8758\n",
      "Accuracy at step 50: 0.8893\n",
      "Accuracy at step 60: 0.8948\n",
      "Accuracy at step 70: 0.9062\n",
      "Accuracy at step 80: 0.9082\n",
      "Accuracy at step 90: 0.905\n",
      "Model saved in : mnist/logs/mnist_with_summaries\n",
      "Accuracy at step 100: 0.9082\n",
      "Accuracy at step 110: 0.9166\n",
      "Accuracy at step 120: 0.918\n",
      "Accuracy at step 130: 0.9169\n",
      "Accuracy at step 140: 0.9224\n",
      "Accuracy at step 150: 0.9241\n",
      "Accuracy at step 160: 0.9275\n",
      "Accuracy at step 170: 0.9276\n",
      "Accuracy at step 180: 0.9274\n",
      "Accuracy at step 190: 0.9326\n",
      "Model saved in : mnist/logs/mnist_with_summaries\n",
      "Accuracy at step 200: 0.9329\n",
      "Accuracy at step 210: 0.9342\n",
      "Accuracy at step 220: 0.9355\n",
      "Accuracy at step 230: 0.9334\n",
      "Accuracy at step 240: 0.9348\n",
      "Accuracy at step 250: 0.9371\n",
      "Accuracy at step 260: 0.9386\n",
      "Accuracy at step 270: 0.9391\n",
      "Accuracy at step 280: 0.938\n",
      "Accuracy at step 290: 0.9441\n",
      "Model saved in : mnist/logs/mnist_with_summaries\n",
      "Accuracy at step 300: 0.942\n",
      "Accuracy at step 310: 0.9473\n",
      "Accuracy at step 320: 0.9452\n",
      "Accuracy at step 330: 0.9442\n",
      "Accuracy at step 340: 0.9467\n",
      "Accuracy at step 350: 0.9465\n",
      "Accuracy at step 360: 0.9456\n",
      "Accuracy at step 370: 0.9473\n",
      "Accuracy at step 380: 0.9504\n",
      "Accuracy at step 390: 0.9495\n",
      "Model saved in : mnist/logs/mnist_with_summaries\n",
      "Accuracy at step 400: 0.9492\n",
      "Accuracy at step 410: 0.9495\n",
      "Accuracy at step 420: 0.9519\n",
      "Accuracy at step 430: 0.9517\n",
      "Accuracy at step 440: 0.9528\n",
      "Accuracy at step 450: 0.9502\n",
      "Accuracy at step 460: 0.9526\n",
      "Accuracy at step 470: 0.9535\n",
      "Accuracy at step 480: 0.9565\n",
      "Accuracy at step 490: 0.9546\n",
      "Model saved in : mnist/logs/mnist_with_summaries\n",
      "Accuracy at step 500: 0.9563\n",
      "Accuracy at step 510: 0.9582\n",
      "Accuracy at step 520: 0.9551\n",
      "Accuracy at step 530: 0.9555\n",
      "Accuracy at step 540: 0.9565\n",
      "Accuracy at step 550: 0.9567\n",
      "Accuracy at step 560: 0.9574\n",
      "Accuracy at step 570: 0.9572\n",
      "Accuracy at step 580: 0.9556\n",
      "Accuracy at step 590: 0.9564\n",
      "Model saved in : mnist/logs/mnist_with_summaries\n",
      "Accuracy at step 600: 0.9549\n",
      "Accuracy at step 610: 0.9604\n",
      "Accuracy at step 620: 0.9554\n",
      "Accuracy at step 630: 0.9571\n",
      "Accuracy at step 640: 0.9594\n",
      "Accuracy at step 650: 0.9608\n",
      "Accuracy at step 660: 0.9571\n",
      "Accuracy at step 670: 0.9598\n",
      "Accuracy at step 680: 0.9587\n",
      "Accuracy at step 690: 0.9616\n",
      "Model saved in : mnist/logs/mnist_with_summaries\n",
      "Accuracy at step 700: 0.9621\n",
      "Accuracy at step 710: 0.9617\n",
      "Accuracy at step 720: 0.9637\n",
      "Accuracy at step 730: 0.9631\n",
      "Accuracy at step 740: 0.9624\n",
      "Accuracy at step 750: 0.9623\n",
      "Accuracy at step 760: 0.9647\n",
      "Accuracy at step 770: 0.9637\n",
      "Accuracy at step 780: 0.964\n",
      "Accuracy at step 790: 0.9616\n",
      "Model saved in : mnist/logs/mnist_with_summaries\n",
      "Accuracy at step 800: 0.9651\n",
      "Accuracy at step 810: 0.9656\n",
      "Accuracy at step 820: 0.9648\n",
      "Accuracy at step 830: 0.9629\n",
      "Accuracy at step 840: 0.9636\n",
      "Accuracy at step 850: 0.9644\n",
      "Accuracy at step 860: 0.9642\n",
      "Accuracy at step 870: 0.967\n",
      "Accuracy at step 880: 0.9646\n",
      "Accuracy at step 890: 0.9667\n",
      "Model saved in : mnist/logs/mnist_with_summaries\n",
      "Accuracy at step 900: 0.9659\n",
      "Accuracy at step 910: 0.9676\n",
      "Accuracy at step 920: 0.9671\n",
      "Accuracy at step 930: 0.9676\n",
      "Accuracy at step 940: 0.9653\n",
      "Accuracy at step 950: 0.9682\n",
      "Accuracy at step 960: 0.9682\n",
      "Accuracy at step 970: 0.9685\n",
      "Accuracy at step 980: 0.9671\n",
      "Accuracy at step 990: 0.968\n",
      "Model saved in : mnist/logs/mnist_with_summaries\n"
     ]
    }
   ],
   "source": [
    "# 实际执行具体的训练，测试及日志记录的操作  \n",
    "\"\"\" \n",
    "首先，使用tf.train.Saver()创建模型的保存器。 \n",
    "然后，进入训练的循环中，每隔10步执行一次merged（数据汇总），accuracy（求测试集上的预测准确率）操作， \n",
    "并使应test_write.add_summary将汇总结果summary和循环步数i写入日志文件; \n",
    "同时每隔100步，使用tf.RunOption定义Tensorflow运行选项，其中设置trace_level为FULL——TRACE, \n",
    "并使用tf.RunMetadata()定义Tensorflow运行的元信息， \n",
    "这样可以记录训练是运算时间和内存占用等方面的信息. \n",
    "再执行merged数据汇总操作和train_step训练操作，将汇总summary和训练元信息run_metadata添加到train_writer. \n",
    "平时，则执行merged操作和train_step操作，并添加summary到trian_writer。 \n",
    "所有训练全部结束后，关闭train_writer和test_writer。 \n",
    "\"\"\"  \n",
    "saver = tf.train.Saver()  \n",
    "for i in range(max_step):  \n",
    "    if i % 10 == 0:  \n",
    "        summary, acc = sess.run([merged, accuracy], feed_dict=feed_dict(False))  \n",
    "        test_writer.add_summary(summary, i)  \n",
    "        print('Accuracy at step %s: %s' % (i, acc))  \n",
    "    else: \n",
    "        #运行这一步总是显示：内核似乎已经死了。 它将自动重启。\n",
    "        #可能是容器运行的缘故\n",
    "        #故注释\n",
    "        if i % 100 == 99:  \n",
    "#             run_options = tf.RunOptions(trace_level=tf.RunOptions.FULL_TRACE)  \n",
    "#             run_metadata = tf.RunMetadata()  \n",
    "#             summary, _ = sess.run([merged, train_step], feed_dict=feed_dict(True),  \n",
    "#                                   options=run_options, run_metadata=run_metadata)  \n",
    "#             train_writer.add_run_metadata(run_metadata, 'step%03d' % i)  \n",
    "#             train_writer.add_summary(summary, i)  \n",
    "            saver.save(sess, log_dir+\"/model.ckpt\", i)  \n",
    "            print('Model saved in :', log_dir) \n",
    "        else:  \n",
    "            summary, _ = sess.run([merged, train_step], feed_dict=feed_dict(True))  \n",
    "            train_writer.add_summary(summary, i)  \n",
    "train_writer.close()  \n",
    "test_writer.close() "
   ]
  },
  {
   "cell_type": "code",
   "execution_count": null,
   "metadata": {
    "collapsed": true
   },
   "outputs": [],
   "source": []
  }
 ],
 "metadata": {
  "kernelspec": {
   "display_name": "Python 3",
   "language": "python",
   "name": "python3"
  },
  "language_info": {
   "codemirror_mode": {
    "name": "ipython",
    "version": 3
   },
   "file_extension": ".py",
   "mimetype": "text/x-python",
   "name": "python",
   "nbconvert_exporter": "python",
   "pygments_lexer": "ipython3",
   "version": "3.5.3"
  }
 },
 "nbformat": 4,
 "nbformat_minor": 2
}
