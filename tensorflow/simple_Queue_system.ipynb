{
 "cells": [
  {
   "cell_type": "code",
   "execution_count": 4,
   "metadata": {
    "collapsed": true
   },
   "outputs": [],
   "source": [
    "import tensorflow as tf"
   ]
  },
  {
   "cell_type": "code",
   "execution_count": 5,
   "metadata": {},
   "outputs": [],
   "source": [
    "#这次，我们从1个数据点的6个样本开始\n",
    "x_input_data = tf.random_normal([6], mean=-1, stddev=4)\n",
    "\n",
    "#请注意，FIFO队列的容量还是3\n",
    "q = tf.FIFOQueue(capacity=3, dtypes=tf.float32)\n",
    "\n",
    "#检查这种情况发生了什么：\n",
    "#我们将在每次“x_input_data”实际计算时打印一条消息\n",
    "#用于“enqueue_many”操作\n",
    "x_input_data = tf.Print(x_input_data, data=[x_input_data],\n",
    "                        message='Raw inputs data generated:',summarize=6)\n",
    "enqueue_op = q.enqueue_many(x_input_data)\n",
    "\n",
    "#为了利用多线程，我们创建一个“QueueRunner”\n",
    "#将处理主线程外的“enqueue_op”\n",
    "#我们在这里不需要太多的并行性，所以我们只使用1个线程\n",
    "numberOfThreads = 1\n",
    "qr = tf.train.QueueRunner(q, [enqueue_op] * numberOfThreads)\n",
    "#不要忘记将“QueueRunner”添加到QUEUE_RUNNERS集合中\n",
    "tf.train.add_queue_runner(qr)\n",
    "\n",
    "input = q.dequeue()\n",
    "input = tf.Print(input, data=[q.size(), input], message='Nb elements left, input:')\n",
    "\n",
    "#fake graph :START\n",
    "y = input + 1\n",
    "#fake graph :END\n",
    "\n",
    "with tf.Session() as sess:\n",
    "    #但是现在我们构建我们的协调器来协调我们的主线程的子线程\n",
    "    coord = tf.train.Coordinator()\n",
    "    #小心，如果你在runnig之前没有启动所有的队列\n",
    "    #主线程将等待他们启动，你将再次挂起\n",
    "    #这个帮助器启动tf.GraphKeys.QUEUE_RUNNERS中的所有队列\n",
    "    threads = tf.train.start_queue_runners(coord=coord)\n",
    "    \n",
    "    #QueueRunner会自动在自己的线程中异步调用入队操作，\n",
    "    #确保队列总是完全不再挂起主进程，不再等待GPU\n",
    "    sess.run(y)\n",
    "    sess.run(y) \n",
    "    sess.run(y)\n",
    "    sess.run(y)\n",
    "    sess.run(y)\n",
    "    sess.run(y)\n",
    "    sess.run(y)\n",
    "    sess.run(y)\n",
    "    sess.run(y)\n",
    "    sess.run(y)\n",
    "\n",
    "    #我们要求我们的子线程停止...\n",
    "    coord.request_stop()\n",
    "    #然后我们等待他们这样做，然后释放主线程\n",
    "    coord.join(threads)"
   ]
  },
  {
   "cell_type": "code",
   "execution_count": null,
   "metadata": {
    "collapsed": true
   },
   "outputs": [],
   "source": []
  }
 ],
 "metadata": {
  "kernelspec": {
   "display_name": "Python 3",
   "language": "python",
   "name": "python3"
  },
  "language_info": {
   "codemirror_mode": {
    "name": "ipython",
    "version": 3
   },
   "file_extension": ".py",
   "mimetype": "text/x-python",
   "name": "python",
   "nbconvert_exporter": "python",
   "pygments_lexer": "ipython3",
   "version": "3.5.3"
  }
 },
 "nbformat": 4,
 "nbformat_minor": 2
}
