{
 "cells": [
  {
   "cell_type": "code",
   "execution_count": null,
   "metadata": {
    "collapsed": true
   },
   "outputs": [],
   "source": [
    "import tensorflow as tf"
   ]
  },
  {
   "cell_type": "code",
   "execution_count": null,
   "metadata": {},
   "outputs": [],
   "source": [
    "#们模拟一些原始输入数据\n",
    "#让我们从1个数据点的3个样本开始\n",
    "x_input_data = tf.random_normal([3], mean=-1, stddev=4)\n",
    "\n",
    "#我们在图中建立一个FIFOQueue\n",
    "#你可以看到它是一个等待数据的等待行\n",
    "#在这种情况下，只有3个位置的行\n",
    "q = tf.FIFOQueue(capacity=3, dtypes=tf.float32)\n",
    "\n",
    "#我们需要一个实际使用数据填充队列的操作\n",
    "#“enqueue_many”片段“x_input_data”沿着第0个维度，以创建多个队列元素\n",
    "enqueue_op = q.enqueue_many(x_input_data)  #<- x1 -x2 -x3 |\n",
    "\n",
    "#在FIFO策略之后，我们需要一个出队操作来获取队列中的下一个元素。\n",
    "input = q.dequeue()\n",
    "#输入张量现在相当于占位符\n",
    "#但直接连接到图中的数据源\n",
    "\n",
    "#每次我们使用输入张量，我们打印剩下的元素数量在队列中\n",
    "input = tf.Print(input, data=[q.size()], message='Nb elements left:')\n",
    "\n",
    "#fake graph:START\n",
    "y = input + 1\n",
    "#fake graph :END\n",
    "\n",
    "with tf.Session() as sess:\n",
    "    #我们首先运行enqueue_op将我们的数据加载到队列中\n",
    "    sess.run(enqueue_op)\n",
    "    #现在，我们的队列拥有3个元素，它已满。\n",
    "    #我们可以开始使用我们的数据\n",
    "    sess.run(y)\n",
    "    sess.run(y)\n",
    "    sess.run(y)\n",
    "    \n",
    "    #现在我们的队列是空的，如果我们再次调用它，我们的程序会挂在这里\n",
    "    #待队列由至少一个数据填充\n",
    "    sess.run(y)\n",
    "    "
   ]
  }
 ],
 "metadata": {
  "kernelspec": {
   "display_name": "Python 3",
   "language": "python",
   "name": "python3"
  },
  "language_info": {
   "codemirror_mode": {
    "name": "ipython",
    "version": 3
   },
   "file_extension": ".py",
   "mimetype": "text/x-python",
   "name": "python",
   "nbconvert_exporter": "python",
   "pygments_lexer": "ipython3",
   "version": "3.5.3"
  }
 },
 "nbformat": 4,
 "nbformat_minor": 2
}
